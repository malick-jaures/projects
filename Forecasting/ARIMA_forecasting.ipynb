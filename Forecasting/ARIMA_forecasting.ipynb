{
 "cells": [
  {
   "cell_type": "markdown",
   "metadata": {},
   "source": [
    "## This notebook will cover to main point :\n",
    "### >Web scraping : get data from World bank API and save as csv file\n",
    "### >Builb a forecasting model to predict the Republic of Cote d'Ivoire population growth rate"
   ]
  },
  {
   "cell_type": "markdown",
   "metadata": {},
   "source": [
    "## Data from World bank API and save as csv file"
   ]
  },
  {
   "cell_type": "code",
   "execution_count": 1,
   "metadata": {},
   "outputs": [],
   "source": [
    "import pandas as pd\n",
    "from pandas_datareader import wb\n",
    "import matplotlib.pyplot as plt\n",
    "import seaborn as sns"
   ]
  },
  {
   "cell_type": "code",
   "execution_count": 2,
   "metadata": {},
   "outputs": [
    {
     "data": {
      "text/html": [
       "<div>\n",
       "<style scoped>\n",
       "    .dataframe tbody tr th:only-of-type {\n",
       "        vertical-align: middle;\n",
       "    }\n",
       "\n",
       "    .dataframe tbody tr th {\n",
       "        vertical-align: top;\n",
       "    }\n",
       "\n",
       "    .dataframe thead th {\n",
       "        text-align: right;\n",
       "    }\n",
       "</style>\n",
       "<table border=\"1\" class=\"dataframe\">\n",
       "  <thead>\n",
       "    <tr style=\"text-align: right;\">\n",
       "      <th></th>\n",
       "      <th>id</th>\n",
       "      <th>name</th>\n",
       "      <th>source</th>\n",
       "      <th>sourceNote</th>\n",
       "      <th>sourceOrganization</th>\n",
       "      <th>topics</th>\n",
       "      <th>unit</th>\n",
       "    </tr>\n",
       "  </thead>\n",
       "  <tbody>\n",
       "    <tr>\n",
       "      <th>11919</th>\n",
       "      <td>SP.POP.GROW</td>\n",
       "      <td>Population growth (annual %)</td>\n",
       "      <td>World Development Indicators</td>\n",
       "      <td>Annual population growth rate for year t is th...</td>\n",
       "      <td>b'Derived from total population. Population so...</td>\n",
       "      <td>Climate Change ; Health</td>\n",
       "      <td></td>\n",
       "    </tr>\n",
       "  </tbody>\n",
       "</table>\n",
       "</div>"
      ],
      "text/plain": [
       "                id                          name  \\\n",
       "11919  SP.POP.GROW  Population growth (annual %)   \n",
       "\n",
       "                             source  \\\n",
       "11919  World Development Indicators   \n",
       "\n",
       "                                              sourceNote  \\\n",
       "11919  Annual population growth rate for year t is th...   \n",
       "\n",
       "                                      sourceOrganization  \\\n",
       "11919  b'Derived from total population. Population so...   \n",
       "\n",
       "                         topics unit  \n",
       "11919  Climate Change ; Health        "
      ]
     },
     "execution_count": 2,
     "metadata": {},
     "output_type": "execute_result"
    }
   ],
   "source": [
    "indicator_id = 'SP.POP.GROW'\n",
    "result = wb.search(string=indicator_id,field = 'id')\n",
    "result"
   ]
  },
  {
   "cell_type": "code",
   "execution_count": 3,
   "metadata": {},
   "outputs": [
    {
     "data": {
      "text/html": [
       "<div>\n",
       "<style scoped>\n",
       "    .dataframe tbody tr th:only-of-type {\n",
       "        vertical-align: middle;\n",
       "    }\n",
       "\n",
       "    .dataframe tbody tr th {\n",
       "        vertical-align: top;\n",
       "    }\n",
       "\n",
       "    .dataframe thead th {\n",
       "        text-align: right;\n",
       "    }\n",
       "</style>\n",
       "<table border=\"1\" class=\"dataframe\">\n",
       "  <thead>\n",
       "    <tr style=\"text-align: right;\">\n",
       "      <th></th>\n",
       "      <th>adminregion</th>\n",
       "      <th>capitalCity</th>\n",
       "      <th>iso3c</th>\n",
       "      <th>incomeLevel</th>\n",
       "      <th>iso2c</th>\n",
       "      <th>latitude</th>\n",
       "      <th>lendingType</th>\n",
       "      <th>longitude</th>\n",
       "      <th>name</th>\n",
       "      <th>region</th>\n",
       "    </tr>\n",
       "  </thead>\n",
       "  <tbody>\n",
       "    <tr>\n",
       "      <th>0</th>\n",
       "      <td></td>\n",
       "      <td>Oranjestad</td>\n",
       "      <td>ABW</td>\n",
       "      <td>High income</td>\n",
       "      <td>AW</td>\n",
       "      <td>12.51670</td>\n",
       "      <td>Not classified</td>\n",
       "      <td>-70.0167</td>\n",
       "      <td>Aruba</td>\n",
       "      <td>Latin America &amp; Caribbean</td>\n",
       "    </tr>\n",
       "    <tr>\n",
       "      <th>1</th>\n",
       "      <td>South Asia</td>\n",
       "      <td>Kabul</td>\n",
       "      <td>AFG</td>\n",
       "      <td>Low income</td>\n",
       "      <td>AF</td>\n",
       "      <td>34.52280</td>\n",
       "      <td>IDA</td>\n",
       "      <td>69.1761</td>\n",
       "      <td>Afghanistan</td>\n",
       "      <td>South Asia</td>\n",
       "    </tr>\n",
       "    <tr>\n",
       "      <th>2</th>\n",
       "      <td></td>\n",
       "      <td></td>\n",
       "      <td>AFR</td>\n",
       "      <td>Aggregates</td>\n",
       "      <td>A9</td>\n",
       "      <td>NaN</td>\n",
       "      <td>Aggregates</td>\n",
       "      <td>NaN</td>\n",
       "      <td>Africa</td>\n",
       "      <td>Aggregates</td>\n",
       "    </tr>\n",
       "    <tr>\n",
       "      <th>3</th>\n",
       "      <td>Sub-Saharan Africa (excluding high income)</td>\n",
       "      <td>Luanda</td>\n",
       "      <td>AGO</td>\n",
       "      <td>Lower middle income</td>\n",
       "      <td>AO</td>\n",
       "      <td>-8.81155</td>\n",
       "      <td>IBRD</td>\n",
       "      <td>13.2420</td>\n",
       "      <td>Angola</td>\n",
       "      <td>Sub-Saharan Africa</td>\n",
       "    </tr>\n",
       "    <tr>\n",
       "      <th>4</th>\n",
       "      <td>Europe &amp; Central Asia (excluding high income)</td>\n",
       "      <td>Tirane</td>\n",
       "      <td>ALB</td>\n",
       "      <td>Upper middle income</td>\n",
       "      <td>AL</td>\n",
       "      <td>41.33170</td>\n",
       "      <td>IBRD</td>\n",
       "      <td>19.8172</td>\n",
       "      <td>Albania</td>\n",
       "      <td>Europe &amp; Central Asia</td>\n",
       "    </tr>\n",
       "  </tbody>\n",
       "</table>\n",
       "</div>"
      ],
      "text/plain": [
       "                                     adminregion capitalCity iso3c  \\\n",
       "0                                                 Oranjestad   ABW   \n",
       "1                                     South Asia       Kabul   AFG   \n",
       "2                                                              AFR   \n",
       "3     Sub-Saharan Africa (excluding high income)      Luanda   AGO   \n",
       "4  Europe & Central Asia (excluding high income)      Tirane   ALB   \n",
       "\n",
       "           incomeLevel iso2c  latitude     lendingType  longitude  \\\n",
       "0          High income    AW  12.51670  Not classified   -70.0167   \n",
       "1           Low income    AF  34.52280             IDA    69.1761   \n",
       "2           Aggregates    A9       NaN      Aggregates        NaN   \n",
       "3  Lower middle income    AO  -8.81155            IBRD    13.2420   \n",
       "4  Upper middle income    AL  41.33170            IBRD    19.8172   \n",
       "\n",
       "          name                      region  \n",
       "0        Aruba  Latin America & Caribbean   \n",
       "1  Afghanistan                  South Asia  \n",
       "2       Africa                  Aggregates  \n",
       "3       Angola         Sub-Saharan Africa   \n",
       "4      Albania       Europe & Central Asia  "
      ]
     },
     "execution_count": 3,
     "metadata": {},
     "output_type": "execute_result"
    }
   ],
   "source": [
    "# Get a list of countries and clean it up\n",
    "countries = wb.get_countries()\n",
    "countries.head(5)"
   ]
  },
  {
   "cell_type": "code",
   "execution_count": 4,
   "metadata": {},
   "outputs": [
    {
     "data": {
      "text/html": [
       "<div>\n",
       "<style scoped>\n",
       "    .dataframe tbody tr th:only-of-type {\n",
       "        vertical-align: middle;\n",
       "    }\n",
       "\n",
       "    .dataframe tbody tr th {\n",
       "        vertical-align: top;\n",
       "    }\n",
       "\n",
       "    .dataframe thead th {\n",
       "        text-align: right;\n",
       "    }\n",
       "</style>\n",
       "<table border=\"1\" class=\"dataframe\">\n",
       "  <thead>\n",
       "    <tr style=\"text-align: right;\">\n",
       "      <th></th>\n",
       "      <th>adminregion</th>\n",
       "      <th>capitalCity</th>\n",
       "      <th>iso3c</th>\n",
       "      <th>incomeLevel</th>\n",
       "      <th>iso2c</th>\n",
       "      <th>latitude</th>\n",
       "      <th>lendingType</th>\n",
       "      <th>longitude</th>\n",
       "      <th>name</th>\n",
       "      <th>region</th>\n",
       "    </tr>\n",
       "  </thead>\n",
       "  <tbody>\n",
       "    <tr>\n",
       "      <th>0</th>\n",
       "      <td></td>\n",
       "      <td>Oranjestad</td>\n",
       "      <td>ABW</td>\n",
       "      <td>High income</td>\n",
       "      <td>AW</td>\n",
       "      <td>12.51670</td>\n",
       "      <td>Not classified</td>\n",
       "      <td>-70.0167</td>\n",
       "      <td>Aruba</td>\n",
       "      <td>Latin America &amp; Caribbean</td>\n",
       "    </tr>\n",
       "    <tr>\n",
       "      <th>1</th>\n",
       "      <td>South Asia</td>\n",
       "      <td>Kabul</td>\n",
       "      <td>AFG</td>\n",
       "      <td>Low income</td>\n",
       "      <td>AF</td>\n",
       "      <td>34.52280</td>\n",
       "      <td>IDA</td>\n",
       "      <td>69.1761</td>\n",
       "      <td>Afghanistan</td>\n",
       "      <td>South Asia</td>\n",
       "    </tr>\n",
       "    <tr>\n",
       "      <th>3</th>\n",
       "      <td>Sub-Saharan Africa (excluding high income)</td>\n",
       "      <td>Luanda</td>\n",
       "      <td>AGO</td>\n",
       "      <td>Lower middle income</td>\n",
       "      <td>AO</td>\n",
       "      <td>-8.81155</td>\n",
       "      <td>IBRD</td>\n",
       "      <td>13.2420</td>\n",
       "      <td>Angola</td>\n",
       "      <td>Sub-Saharan Africa</td>\n",
       "    </tr>\n",
       "    <tr>\n",
       "      <th>4</th>\n",
       "      <td>Europe &amp; Central Asia (excluding high income)</td>\n",
       "      <td>Tirane</td>\n",
       "      <td>ALB</td>\n",
       "      <td>Upper middle income</td>\n",
       "      <td>AL</td>\n",
       "      <td>41.33170</td>\n",
       "      <td>IBRD</td>\n",
       "      <td>19.8172</td>\n",
       "      <td>Albania</td>\n",
       "      <td>Europe &amp; Central Asia</td>\n",
       "    </tr>\n",
       "    <tr>\n",
       "      <th>5</th>\n",
       "      <td></td>\n",
       "      <td>Andorra la Vella</td>\n",
       "      <td>AND</td>\n",
       "      <td>High income</td>\n",
       "      <td>AD</td>\n",
       "      <td>42.50750</td>\n",
       "      <td>Not classified</td>\n",
       "      <td>1.5218</td>\n",
       "      <td>Andorra</td>\n",
       "      <td>Europe &amp; Central Asia</td>\n",
       "    </tr>\n",
       "  </tbody>\n",
       "</table>\n",
       "</div>"
      ],
      "text/plain": [
       "                                     adminregion       capitalCity iso3c  \\\n",
       "0                                                       Oranjestad   ABW   \n",
       "1                                     South Asia             Kabul   AFG   \n",
       "3     Sub-Saharan Africa (excluding high income)            Luanda   AGO   \n",
       "4  Europe & Central Asia (excluding high income)            Tirane   ALB   \n",
       "5                                                 Andorra la Vella   AND   \n",
       "\n",
       "           incomeLevel iso2c  latitude     lendingType  longitude  \\\n",
       "0          High income    AW  12.51670  Not classified   -70.0167   \n",
       "1           Low income    AF  34.52280             IDA    69.1761   \n",
       "3  Lower middle income    AO  -8.81155            IBRD    13.2420   \n",
       "4  Upper middle income    AL  41.33170            IBRD    19.8172   \n",
       "5          High income    AD  42.50750  Not classified     1.5218   \n",
       "\n",
       "          name                      region  \n",
       "0        Aruba  Latin America & Caribbean   \n",
       "1  Afghanistan                  South Asia  \n",
       "3       Angola         Sub-Saharan Africa   \n",
       "4      Albania       Europe & Central Asia  \n",
       "5      Andorra       Europe & Central Asia  "
      ]
     },
     "execution_count": 4,
     "metadata": {},
     "output_type": "execute_result"
    }
   ],
   "source": [
    "#Select only those observations and columns we need: \n",
    "countries = countries[countries.incomeLevel != 'Aggregates']\n",
    "#countries = countries[countries.region.isin(l_countries)]\n",
    "countries.head()"
   ]
  },
  {
   "cell_type": "code",
   "execution_count": 5,
   "metadata": {},
   "outputs": [
    {
     "data": {
      "text/plain": [
       "13     AUS\n",
       "50     CIV\n",
       "53     CMR\n",
       "95     ETH\n",
       "237    RWA\n",
       "Name: iso3c, dtype: object"
      ]
     },
     "execution_count": 5,
     "metadata": {},
     "output_type": "execute_result"
    }
   ],
   "source": [
    "l_countries = ['Australia','Rwanda',\"Cote d'Ivoire\", \"Cameroon\", \"Ethiopia\"]\n",
    "countries_codes = countries.iso3c[countries.name.isin(l_countries)]\n",
    "countries_codes"
   ]
  },
  {
   "cell_type": "code",
   "execution_count": 6,
   "metadata": {},
   "outputs": [
    {
     "data": {
      "text/html": [
       "<div>\n",
       "<style scoped>\n",
       "    .dataframe tbody tr th:only-of-type {\n",
       "        vertical-align: middle;\n",
       "    }\n",
       "\n",
       "    .dataframe tbody tr th {\n",
       "        vertical-align: top;\n",
       "    }\n",
       "\n",
       "    .dataframe thead th {\n",
       "        text-align: right;\n",
       "    }\n",
       "</style>\n",
       "<table border=\"1\" class=\"dataframe\">\n",
       "  <thead>\n",
       "    <tr style=\"text-align: right;\">\n",
       "      <th></th>\n",
       "      <th></th>\n",
       "      <th>SP.POP.GROW</th>\n",
       "    </tr>\n",
       "    <tr>\n",
       "      <th>country</th>\n",
       "      <th>year</th>\n",
       "      <th></th>\n",
       "    </tr>\n",
       "  </thead>\n",
       "  <tbody>\n",
       "    <tr>\n",
       "      <th rowspan=\"5\" valign=\"top\">Australia</th>\n",
       "      <th>2018</th>\n",
       "      <td>NaN</td>\n",
       "    </tr>\n",
       "    <tr>\n",
       "      <th>2017</th>\n",
       "      <td>1.684523</td>\n",
       "    </tr>\n",
       "    <tr>\n",
       "      <th>2016</th>\n",
       "      <td>1.561940</td>\n",
       "    </tr>\n",
       "    <tr>\n",
       "      <th>2015</th>\n",
       "      <td>1.439217</td>\n",
       "    </tr>\n",
       "    <tr>\n",
       "      <th>2014</th>\n",
       "      <td>1.491566</td>\n",
       "    </tr>\n",
       "  </tbody>\n",
       "</table>\n",
       "</div>"
      ],
      "text/plain": [
       "                SP.POP.GROW\n",
       "country   year             \n",
       "Australia 2018          NaN\n",
       "          2017     1.684523\n",
       "          2016     1.561940\n",
       "          2015     1.439217\n",
       "          2014     1.491566"
      ]
     },
     "execution_count": 6,
     "metadata": {},
     "output_type": "execute_result"
    }
   ],
   "source": [
    "reader = wb.WorldBankReader(symbols=indicator_id,countries = countries_codes,start=1960)\n",
    "country_df = reader.read()\n",
    "country_df.head()"
   ]
  },
  {
   "cell_type": "code",
   "execution_count": 7,
   "metadata": {},
   "outputs": [
    {
     "data": {
      "text/html": [
       "<div>\n",
       "<style scoped>\n",
       "    .dataframe tbody tr th:only-of-type {\n",
       "        vertical-align: middle;\n",
       "    }\n",
       "\n",
       "    .dataframe tbody tr th {\n",
       "        vertical-align: top;\n",
       "    }\n",
       "\n",
       "    .dataframe thead th {\n",
       "        text-align: right;\n",
       "    }\n",
       "</style>\n",
       "<table border=\"1\" class=\"dataframe\">\n",
       "  <thead>\n",
       "    <tr style=\"text-align: right;\">\n",
       "      <th>country</th>\n",
       "      <th>Australia</th>\n",
       "      <th>Cameroon</th>\n",
       "      <th>Cote d'Ivoire</th>\n",
       "      <th>Ethiopia</th>\n",
       "      <th>Rwanda</th>\n",
       "    </tr>\n",
       "    <tr>\n",
       "      <th>year</th>\n",
       "      <th></th>\n",
       "      <th></th>\n",
       "      <th></th>\n",
       "      <th></th>\n",
       "      <th></th>\n",
       "    </tr>\n",
       "  </thead>\n",
       "  <tbody>\n",
       "    <tr>\n",
       "      <th>2014</th>\n",
       "      <td>1.491566</td>\n",
       "      <td>2.661876</td>\n",
       "      <td>2.539767</td>\n",
       "      <td>2.579068</td>\n",
       "      <td>2.500797</td>\n",
       "    </tr>\n",
       "    <tr>\n",
       "      <th>2015</th>\n",
       "      <td>1.439217</td>\n",
       "      <td>2.638536</td>\n",
       "      <td>2.529163</td>\n",
       "      <td>2.541469</td>\n",
       "      <td>2.474095</td>\n",
       "    </tr>\n",
       "    <tr>\n",
       "      <th>2016</th>\n",
       "      <td>1.561940</td>\n",
       "      <td>2.613585</td>\n",
       "      <td>2.510354</td>\n",
       "      <td>2.501821</td>\n",
       "      <td>2.445905</td>\n",
       "    </tr>\n",
       "    <tr>\n",
       "      <th>2017</th>\n",
       "      <td>1.684523</td>\n",
       "      <td>2.588059</td>\n",
       "      <td>2.495744</td>\n",
       "      <td>2.463699</td>\n",
       "      <td>2.411623</td>\n",
       "    </tr>\n",
       "    <tr>\n",
       "      <th>2018</th>\n",
       "      <td>NaN</td>\n",
       "      <td>NaN</td>\n",
       "      <td>NaN</td>\n",
       "      <td>NaN</td>\n",
       "      <td>NaN</td>\n",
       "    </tr>\n",
       "  </tbody>\n",
       "</table>\n",
       "</div>"
      ],
      "text/plain": [
       "country  Australia  Cameroon  Cote d'Ivoire  Ethiopia    Rwanda\n",
       "year                                                           \n",
       "2014      1.491566  2.661876       2.539767  2.579068  2.500797\n",
       "2015      1.439217  2.638536       2.529163  2.541469  2.474095\n",
       "2016      1.561940  2.613585       2.510354  2.501821  2.445905\n",
       "2017      1.684523  2.588059       2.495744  2.463699  2.411623\n",
       "2018           NaN       NaN            NaN       NaN       NaN"
      ]
     },
     "execution_count": 7,
     "metadata": {},
     "output_type": "execute_result"
    }
   ],
   "source": [
    "country_df = country_df.unstack(level=0)[indicator_id]\n",
    "country_df.to_csv(\"countries.csv\")\n",
    "country_df.tail()"
   ]
  },
  {
   "cell_type": "code",
   "execution_count": 302,
   "metadata": {},
   "outputs": [
    {
     "data": {
      "text/html": [
       "<div>\n",
       "<style scoped>\n",
       "    .dataframe tbody tr th:only-of-type {\n",
       "        vertical-align: middle;\n",
       "    }\n",
       "\n",
       "    .dataframe tbody tr th {\n",
       "        vertical-align: top;\n",
       "    }\n",
       "\n",
       "    .dataframe thead th {\n",
       "        text-align: right;\n",
       "    }\n",
       "</style>\n",
       "<table border=\"1\" class=\"dataframe\">\n",
       "  <thead>\n",
       "    <tr style=\"text-align: right;\">\n",
       "      <th>country</th>\n",
       "      <th>Cote d'Ivoire</th>\n",
       "    </tr>\n",
       "    <tr>\n",
       "      <th>year</th>\n",
       "      <th></th>\n",
       "    </tr>\n",
       "  </thead>\n",
       "  <tbody>\n",
       "    <tr>\n",
       "      <th>1960</th>\n",
       "      <td>3.518860</td>\n",
       "    </tr>\n",
       "    <tr>\n",
       "      <th>1961</th>\n",
       "      <td>3.728914</td>\n",
       "    </tr>\n",
       "    <tr>\n",
       "      <th>1962</th>\n",
       "      <td>3.898586</td>\n",
       "    </tr>\n",
       "    <tr>\n",
       "      <th>1963</th>\n",
       "      <td>3.977808</td>\n",
       "    </tr>\n",
       "    <tr>\n",
       "      <th>1964</th>\n",
       "      <td>3.949645</td>\n",
       "    </tr>\n",
       "    <tr>\n",
       "      <th>1965</th>\n",
       "      <td>3.864413</td>\n",
       "    </tr>\n",
       "    <tr>\n",
       "      <th>1966</th>\n",
       "      <td>3.755989</td>\n",
       "    </tr>\n",
       "    <tr>\n",
       "      <th>1967</th>\n",
       "      <td>3.700273</td>\n",
       "    </tr>\n",
       "    <tr>\n",
       "      <th>1968</th>\n",
       "      <td>3.749947</td>\n",
       "    </tr>\n",
       "    <tr>\n",
       "      <th>1969</th>\n",
       "      <td>3.928453</td>\n",
       "    </tr>\n",
       "  </tbody>\n",
       "</table>\n",
       "</div>"
      ],
      "text/plain": [
       "country  Cote d'Ivoire\n",
       "year                  \n",
       "1960          3.518860\n",
       "1961          3.728914\n",
       "1962          3.898586\n",
       "1963          3.977808\n",
       "1964          3.949645\n",
       "1965          3.864413\n",
       "1966          3.755989\n",
       "1967          3.700273\n",
       "1968          3.749947\n",
       "1969          3.928453"
      ]
     },
     "execution_count": 302,
     "metadata": {},
     "output_type": "execute_result"
    }
   ],
   "source": [
    "country_df[[\"Cote d\\'Ivoire\"]].to_csv(\"cote_divoire_growth.csv\")\n",
    "country_df[[\"Cote d\\'Ivoire\"]].head(10)\n"
   ]
  },
  {
   "cell_type": "code",
   "execution_count": 303,
   "metadata": {},
   "outputs": [
    {
     "data": {
      "text/html": [
       "<div>\n",
       "<style scoped>\n",
       "    .dataframe tbody tr th:only-of-type {\n",
       "        vertical-align: middle;\n",
       "    }\n",
       "\n",
       "    .dataframe tbody tr th {\n",
       "        vertical-align: top;\n",
       "    }\n",
       "\n",
       "    .dataframe thead th {\n",
       "        text-align: right;\n",
       "    }\n",
       "</style>\n",
       "<table border=\"1\" class=\"dataframe\">\n",
       "  <thead>\n",
       "    <tr style=\"text-align: right;\">\n",
       "      <th>country</th>\n",
       "      <th>Cote d'Ivoire</th>\n",
       "    </tr>\n",
       "    <tr>\n",
       "      <th>year</th>\n",
       "      <th></th>\n",
       "    </tr>\n",
       "  </thead>\n",
       "  <tbody>\n",
       "    <tr>\n",
       "      <th>2009</th>\n",
       "      <td>2.223432</td>\n",
       "    </tr>\n",
       "    <tr>\n",
       "      <th>2010</th>\n",
       "      <td>2.305464</td>\n",
       "    </tr>\n",
       "    <tr>\n",
       "      <th>2011</th>\n",
       "      <td>2.392464</td>\n",
       "    </tr>\n",
       "    <tr>\n",
       "      <th>2012</th>\n",
       "      <td>2.473506</td>\n",
       "    </tr>\n",
       "    <tr>\n",
       "      <th>2013</th>\n",
       "      <td>2.525016</td>\n",
       "    </tr>\n",
       "    <tr>\n",
       "      <th>2014</th>\n",
       "      <td>2.539767</td>\n",
       "    </tr>\n",
       "    <tr>\n",
       "      <th>2015</th>\n",
       "      <td>2.529163</td>\n",
       "    </tr>\n",
       "    <tr>\n",
       "      <th>2016</th>\n",
       "      <td>2.510354</td>\n",
       "    </tr>\n",
       "    <tr>\n",
       "      <th>2017</th>\n",
       "      <td>2.495744</td>\n",
       "    </tr>\n",
       "    <tr>\n",
       "      <th>2018</th>\n",
       "      <td>NaN</td>\n",
       "    </tr>\n",
       "  </tbody>\n",
       "</table>\n",
       "</div>"
      ],
      "text/plain": [
       "country  Cote d'Ivoire\n",
       "year                  \n",
       "2009          2.223432\n",
       "2010          2.305464\n",
       "2011          2.392464\n",
       "2012          2.473506\n",
       "2013          2.525016\n",
       "2014          2.539767\n",
       "2015          2.529163\n",
       "2016          2.510354\n",
       "2017          2.495744\n",
       "2018               NaN"
      ]
     },
     "execution_count": 303,
     "metadata": {},
     "output_type": "execute_result"
    }
   ],
   "source": [
    "country_df[[\"Cote d\\'Ivoire\"]].tail(10)"
   ]
  },
  {
   "cell_type": "code",
   "execution_count": null,
   "metadata": {},
   "outputs": [],
   "source": []
  },
  {
   "cell_type": "markdown",
   "metadata": {},
   "source": [
    "## Now we are going to estimate the population growth rate for the 10 next years"
   ]
  },
  {
   "cell_type": "code",
   "execution_count": 8,
   "metadata": {},
   "outputs": [],
   "source": [
    "import warnings\n",
    "import itertools\n",
    "import pandas as pd\n",
    "import numpy as np\n",
    "import statsmodels.api as sm\n",
    "import matplotlib.pyplot as plt\n",
    "import datetime\n",
    "\n",
    "plt.style.use('fivethirtyeight')"
   ]
  },
  {
   "cell_type": "code",
   "execution_count": 9,
   "metadata": {},
   "outputs": [
    {
     "data": {
      "text/html": [
       "<div>\n",
       "<style scoped>\n",
       "    .dataframe tbody tr th:only-of-type {\n",
       "        vertical-align: middle;\n",
       "    }\n",
       "\n",
       "    .dataframe tbody tr th {\n",
       "        vertical-align: top;\n",
       "    }\n",
       "\n",
       "    .dataframe thead th {\n",
       "        text-align: right;\n",
       "    }\n",
       "</style>\n",
       "<table border=\"1\" class=\"dataframe\">\n",
       "  <thead>\n",
       "    <tr style=\"text-align: right;\">\n",
       "      <th></th>\n",
       "      <th>pop_growth_rate</th>\n",
       "    </tr>\n",
       "    <tr>\n",
       "      <th>year</th>\n",
       "      <th></th>\n",
       "    </tr>\n",
       "  </thead>\n",
       "  <tbody>\n",
       "    <tr>\n",
       "      <th>1960-01-01</th>\n",
       "      <td>3.518860</td>\n",
       "    </tr>\n",
       "    <tr>\n",
       "      <th>1961-01-01</th>\n",
       "      <td>3.728914</td>\n",
       "    </tr>\n",
       "    <tr>\n",
       "      <th>1962-01-01</th>\n",
       "      <td>3.898586</td>\n",
       "    </tr>\n",
       "    <tr>\n",
       "      <th>1963-01-01</th>\n",
       "      <td>3.977808</td>\n",
       "    </tr>\n",
       "    <tr>\n",
       "      <th>1964-01-01</th>\n",
       "      <td>3.949645</td>\n",
       "    </tr>\n",
       "  </tbody>\n",
       "</table>\n",
       "</div>"
      ],
      "text/plain": [
       "            pop_growth_rate\n",
       "year                       \n",
       "1960-01-01         3.518860\n",
       "1961-01-01         3.728914\n",
       "1962-01-01         3.898586\n",
       "1963-01-01         3.977808\n",
       "1964-01-01         3.949645"
      ]
     },
     "execution_count": 9,
     "metadata": {},
     "output_type": "execute_result"
    }
   ],
   "source": [
    "cote_divoire = pd.read_csv(\"cote_divoire_growth.csv\", index_col=\"year\", parse_dates=True)\n",
    "cote_divoire.head()\n",
    "\n",
    "cote_divoire.rename({\"Cote d'Ivoire\":\"pop_growth_rate\"},axis=1, inplace=True)\n",
    "\n",
    "cote_divoire.head()"
   ]
  },
  {
   "cell_type": "code",
   "execution_count": 10,
   "metadata": {},
   "outputs": [
    {
     "data": {
      "text/html": [
       "<div>\n",
       "<style scoped>\n",
       "    .dataframe tbody tr th:only-of-type {\n",
       "        vertical-align: middle;\n",
       "    }\n",
       "\n",
       "    .dataframe tbody tr th {\n",
       "        vertical-align: top;\n",
       "    }\n",
       "\n",
       "    .dataframe thead th {\n",
       "        text-align: right;\n",
       "    }\n",
       "</style>\n",
       "<table border=\"1\" class=\"dataframe\">\n",
       "  <thead>\n",
       "    <tr style=\"text-align: right;\">\n",
       "      <th></th>\n",
       "      <th>pop_growth_rate</th>\n",
       "    </tr>\n",
       "    <tr>\n",
       "      <th>year</th>\n",
       "      <th></th>\n",
       "    </tr>\n",
       "  </thead>\n",
       "  <tbody>\n",
       "    <tr>\n",
       "      <th>2014-01-01</th>\n",
       "      <td>2.539767</td>\n",
       "    </tr>\n",
       "    <tr>\n",
       "      <th>2015-01-01</th>\n",
       "      <td>2.529163</td>\n",
       "    </tr>\n",
       "    <tr>\n",
       "      <th>2016-01-01</th>\n",
       "      <td>2.510354</td>\n",
       "    </tr>\n",
       "    <tr>\n",
       "      <th>2017-01-01</th>\n",
       "      <td>2.495744</td>\n",
       "    </tr>\n",
       "    <tr>\n",
       "      <th>2018-01-01</th>\n",
       "      <td>NaN</td>\n",
       "    </tr>\n",
       "  </tbody>\n",
       "</table>\n",
       "</div>"
      ],
      "text/plain": [
       "            pop_growth_rate\n",
       "year                       \n",
       "2014-01-01         2.539767\n",
       "2015-01-01         2.529163\n",
       "2016-01-01         2.510354\n",
       "2017-01-01         2.495744\n",
       "2018-01-01              NaN"
      ]
     },
     "execution_count": 10,
     "metadata": {},
     "output_type": "execute_result"
    }
   ],
   "source": [
    "cote_divoire.tail()"
   ]
  },
  {
   "cell_type": "code",
   "execution_count": 11,
   "metadata": {},
   "outputs": [],
   "source": [
    "cote_divoire.loc[\"2018-01-01\",\"pop_growth_rate\"] = cote_divoire.loc[\"2017-01-01\", \"pop_growth_rate\"]"
   ]
  },
  {
   "cell_type": "code",
   "execution_count": 12,
   "metadata": {},
   "outputs": [
    {
     "data": {
      "image/png": "[encoded data removed]",
      "text/plain": [
       "<Figure size 720x288 with 1 Axes>"
      ]
     },
     "metadata": {},
     "output_type": "display_data"
    }
   ],
   "source": [
    "cote_divoire.plot(kind=\"hist\",bins=10,figsize=(10, 4))\n",
    "plt.savefig(\"growth_hist.png\")\n",
    "plt.show()"
   ]
  },
  {
   "cell_type": "code",
   "execution_count": 13,
   "metadata": {},
   "outputs": [
    {
     "data": {
      "image/png": "[encoded data removed]",
      "text/plain": [
       "<Figure size 720x288 with 1 Axes>"
      ]
     },
     "metadata": {},
     "output_type": "display_data"
    }
   ],
   "source": [
    "\n",
    "cote_divoire.plot(figsize=(10, 4))\n",
    "plt.savefig(\"growth_behavior.png\")\n",
    "plt.show()"
   ]
  },
  {
   "cell_type": "markdown",
   "metadata": {},
   "source": [
    "### The following dataframe contain the results of the parameter's estimation under some criteria (see notebook Arima). Because this can take long we have  decided to put this task in an other notebook."
   ]
  },
  {
   "cell_type": "code",
   "execution_count": 55,
   "metadata": {},
   "outputs": [
    {
     "data": {
      "text/html": [
       "<div>\n",
       "<style scoped>\n",
       "    .dataframe tbody tr th:only-of-type {\n",
       "        vertical-align: middle;\n",
       "    }\n",
       "\n",
       "    .dataframe tbody tr th {\n",
       "        vertical-align: top;\n",
       "    }\n",
       "\n",
       "    .dataframe thead th {\n",
       "        text-align: right;\n",
       "    }\n",
       "</style>\n",
       "<table border=\"1\" class=\"dataframe\">\n",
       "  <thead>\n",
       "    <tr style=\"text-align: right;\">\n",
       "      <th></th>\n",
       "      <th>AIC</th>\n",
       "      <th>arima_model</th>\n",
       "      <th>dynamic_prediction_error</th>\n",
       "      <th>non_dynamic_prediction_error</th>\n",
       "    </tr>\n",
       "  </thead>\n",
       "  <tbody>\n",
       "    <tr>\n",
       "      <th>0</th>\n",
       "      <td>-74.280006</td>\n",
       "      <td>\\tARIMA(1, 0, 3)x(3, 0, 1, 12)12</td>\n",
       "      <td>0.004591</td>\n",
       "      <td>0.000738</td>\n",
       "    </tr>\n",
       "    <tr>\n",
       "      <th>1</th>\n",
       "      <td>-93.668752</td>\n",
       "      <td>\\tARIMA(2, 0, 0)x(3, 0, 0, 12)12</td>\n",
       "      <td>0.002382</td>\n",
       "      <td>0.000415</td>\n",
       "    </tr>\n",
       "    <tr>\n",
       "      <th>2</th>\n",
       "      <td>-91.789633</td>\n",
       "      <td>\\tARIMA(2, 0, 0)x(3, 0, 1, 12)12</td>\n",
       "      <td>0.003377</td>\n",
       "      <td>0.000407</td>\n",
       "    </tr>\n",
       "    <tr>\n",
       "      <th>3</th>\n",
       "      <td>-98.943559</td>\n",
       "      <td>\\tARIMA(2, 0, 1)x(3, 0, 0, 12)12</td>\n",
       "      <td>0.002635</td>\n",
       "      <td>0.000286</td>\n",
       "    </tr>\n",
       "    <tr>\n",
       "      <th>4</th>\n",
       "      <td>-98.510622</td>\n",
       "      <td>\\tARIMA(2, 0, 3)x(3, 0, 0, 12)12</td>\n",
       "      <td>0.002417</td>\n",
       "      <td>0.000234</td>\n",
       "    </tr>\n",
       "    <tr>\n",
       "      <th>5</th>\n",
       "      <td>-89.514039</td>\n",
       "      <td>\\tARIMA(2, 0, 3)x(3, 0, 1, 12)12</td>\n",
       "      <td>0.003277</td>\n",
       "      <td>0.000266</td>\n",
       "    </tr>\n",
       "    <tr>\n",
       "      <th>6</th>\n",
       "      <td>-92.455668</td>\n",
       "      <td>\\tARIMA(2, 0, 4)x(3, 0, 1, 12)12</td>\n",
       "      <td>0.002553</td>\n",
       "      <td>0.000242</td>\n",
       "    </tr>\n",
       "    <tr>\n",
       "      <th>7</th>\n",
       "      <td>-93.433195</td>\n",
       "      <td>\\tARIMA(2, 0, 5)x(3, 0, 0, 12)12</td>\n",
       "      <td>0.004061</td>\n",
       "      <td>0.000236</td>\n",
       "    </tr>\n",
       "    <tr>\n",
       "      <th>8</th>\n",
       "      <td>-96.359569</td>\n",
       "      <td>\\tARIMA(2, 1, 0)x(3, 0, 1, 12)12</td>\n",
       "      <td>0.002704</td>\n",
       "      <td>0.000214</td>\n",
       "    </tr>\n",
       "    <tr>\n",
       "      <th>9</th>\n",
       "      <td>-88.932882</td>\n",
       "      <td>\\tARIMA(3, 0, 1)x(3, 0, 0, 12)12</td>\n",
       "      <td>0.004742</td>\n",
       "      <td>0.000315</td>\n",
       "    </tr>\n",
       "    <tr>\n",
       "      <th>10</th>\n",
       "      <td>-69.790435</td>\n",
       "      <td>\\tARIMA(4, 0, 1)x(3, 0, 1, 12)12</td>\n",
       "      <td>0.003510</td>\n",
       "      <td>0.000513</td>\n",
       "    </tr>\n",
       "    <tr>\n",
       "      <th>11</th>\n",
       "      <td>-85.666234</td>\n",
       "      <td>\\tARIMA(4, 0, 5)x(3, 0, 0, 12)12</td>\n",
       "      <td>0.002285</td>\n",
       "      <td>0.000183</td>\n",
       "    </tr>\n",
       "  </tbody>\n",
       "</table>\n",
       "</div>"
      ],
      "text/plain": [
       "          AIC                       arima_model  dynamic_prediction_error  \\\n",
       "0  -74.280006  \\tARIMA(1, 0, 3)x(3, 0, 1, 12)12                  0.004591   \n",
       "1  -93.668752  \\tARIMA(2, 0, 0)x(3, 0, 0, 12)12                  0.002382   \n",
       "2  -91.789633  \\tARIMA(2, 0, 0)x(3, 0, 1, 12)12                  0.003377   \n",
       "3  -98.943559  \\tARIMA(2, 0, 1)x(3, 0, 0, 12)12                  0.002635   \n",
       "4  -98.510622  \\tARIMA(2, 0, 3)x(3, 0, 0, 12)12                  0.002417   \n",
       "5  -89.514039  \\tARIMA(2, 0, 3)x(3, 0, 1, 12)12                  0.003277   \n",
       "6  -92.455668  \\tARIMA(2, 0, 4)x(3, 0, 1, 12)12                  0.002553   \n",
       "7  -93.433195  \\tARIMA(2, 0, 5)x(3, 0, 0, 12)12                  0.004061   \n",
       "8  -96.359569  \\tARIMA(2, 1, 0)x(3, 0, 1, 12)12                  0.002704   \n",
       "9  -88.932882  \\tARIMA(3, 0, 1)x(3, 0, 0, 12)12                  0.004742   \n",
       "10 -69.790435  \\tARIMA(4, 0, 1)x(3, 0, 1, 12)12                  0.003510   \n",
       "11 -85.666234  \\tARIMA(4, 0, 5)x(3, 0, 0, 12)12                  0.002285   \n",
       "\n",
       "    non_dynamic_prediction_error  \n",
       "0                       0.000738  \n",
       "1                       0.000415  \n",
       "2                       0.000407  \n",
       "3                       0.000286  \n",
       "4                       0.000234  \n",
       "5                       0.000266  \n",
       "6                       0.000242  \n",
       "7                       0.000236  \n",
       "8                       0.000214  \n",
       "9                       0.000315  \n",
       "10                      0.000513  \n",
       "11                      0.000183  "
      ]
     },
     "execution_count": 55,
     "metadata": {},
     "output_type": "execute_result"
    }
   ],
   "source": [
    "\n",
    "names=[\"AIC\",\"arima_model\",\"dynamic_prediction_error\",\"non_dynamic_prediction_error\"]\n",
    "estimated_parameters = pd.read_csv(\"param_estimated.dat\", delimiter=\";\", names=names)\n",
    "estimated_parameters"
   ]
  },
  {
   "cell_type": "code",
   "execution_count": 56,
   "metadata": {},
   "outputs": [
    {
     "name": "stderr",
     "output_type": "stream",
     "text": [
      "/home/ebiele/anaconda3/lib/python3.7/site-packages/statsmodels/tsa/base/tsa_model.py:171: ValueWarning: No frequency information was provided, so inferred frequency AS-JAN will be used.\n",
      "  % freq, ValueWarning)\n",
      "/home/ebiele/anaconda3/lib/python3.7/site-packages/statsmodels/tsa/base/tsa_model.py:191: FutureWarning: Creating a DatetimeIndex by passing range endpoints is deprecated.  Use `pandas.date_range` instead.\n",
      "  start=index[0], end=index[-1], freq=freq)\n"
     ]
    },
    {
     "name": "stdout",
     "output_type": "stream",
     "text": [
      "==============================================================================\n",
      "                 coef    std err          z      P>|z|      [0.025      0.975]\n",
      "------------------------------------------------------------------------------\n",
      "ar.L1          2.8216      0.898      3.142      0.002       1.061       4.582\n",
      "ar.L2         -3.3368      1.916     -1.742      0.082      -7.092       0.418\n",
      "ar.L3          2.0564      1.611      1.277      0.202      -1.101       5.214\n",
      "ar.L4         -0.5754      0.582     -0.990      0.322      -1.715       0.564\n",
      "ma.L1          0.2633     21.020      0.013      0.990     -40.935      41.461\n",
      "ma.L2         -0.1225      4.836     -0.025      0.980      -9.601       9.356\n",
      "ma.L3          0.0720      9.332      0.008      0.994     -18.219      18.363\n",
      "ma.L4          0.2279     18.707      0.012      0.990     -36.437      36.893\n",
      "ma.L5         -0.6167     15.424     -0.040      0.968     -30.848      29.614\n",
      "ar.S.L12       0.0547      0.760      0.072      0.943      -1.435       1.544\n",
      "ar.S.L24       0.3714      0.556      0.668      0.504      -0.718       1.461\n",
      "ar.S.L36       0.1995      0.600      0.333      0.739      -0.976       1.375\n",
      "sigma2         0.0001      0.004      0.039      0.969      -0.007       0.007\n",
      "==============================================================================\n"
     ]
    },
    {
     "name": "stderr",
     "output_type": "stream",
     "text": [
      "/home/ebiele/anaconda3/lib/python3.7/site-packages/statsmodels/base/model.py:508: ConvergenceWarning: Maximum Likelihood optimization failed to converge. Check mle_retvals\n",
      "  \"Check mle_retvals\", ConvergenceWarning)\n"
     ]
    }
   ],
   "source": [
    "## From the table above the best one is the last one\n",
    "mod = sm.tsa.statespace.SARIMAX(cote_divoire,\n",
    "                                order=(4, 0, 5),\n",
    "                                seasonal_order=(3, 0, 0, 12),\n",
    "                                enforce_stationarity=False,\n",
    "                                enforce_invertibility=False)\n",
    "\n",
    "results = mod.fit()\n",
    "\n",
    "print(results.summary().tables[1])"
   ]
  },
  {
   "cell_type": "code",
   "execution_count": 57,
   "metadata": {},
   "outputs": [
    {
     "data": {
      "image/png": "[encoded data removed]",
      "text/plain": [
       "<Figure size 864x576 with 4 Axes>"
      ]
     },
     "metadata": {},
     "output_type": "display_data"
    }
   ],
   "source": [
    "results.plot_diagnostics(figsize=(12, 8))\n",
    "plt.savefig(\"growth_diagonstic.png\")\n",
    "plt.show()"
   ]
  },
  {
   "cell_type": "code",
   "execution_count": 58,
   "metadata": {},
   "outputs": [],
   "source": [
    "pred = results.get_prediction(start=pd.to_datetime(\"2000-01-01\"), dynamic=False)\n",
    "pred_ci = pred.conf_int()"
   ]
  },
  {
   "cell_type": "code",
   "execution_count": 59,
   "metadata": {},
   "outputs": [
    {
     "data": {
      "image/png": "[encoded data removed]",
      "text/plain": [
       "<Figure size 432x288 with 1 Axes>"
      ]
     },
     "metadata": {},
     "output_type": "display_data"
    }
   ],
   "source": [
    "ax = cote_divoire[\"1990\":].plot(label='observed')\n",
    "pred.predicted_mean.plot(ax=ax, label='growth rate predicted', alpha=.7)\n",
    "\n",
    "ax.fill_between(pred_ci.index,\n",
    "                pred_ci.iloc[:, 0],\n",
    "                pred_ci.iloc[:, 1], color='k', alpha=.2)\n",
    "\n",
    "ax.set_xlabel('Date')\n",
    "ax.set_ylabel('Pop growth')\n",
    "plt.legend()\n",
    "plt.savefig(\"growth_prediction.png\")\n",
    "plt.show()"
   ]
  },
  {
   "cell_type": "code",
   "execution_count": 60,
   "metadata": {},
   "outputs": [],
   "source": [
    "y_forecasted = pred.predicted_mean\n",
    "y_truth = cote_divoire['2000-01-01':]\n",
    "\n",
    "y_forecasted = np.array(y_forecasted.tolist() )\n",
    "y_truth = np.array(y_truth[\"pop_growth_rate\"].tolist() )\n"
   ]
  },
  {
   "cell_type": "code",
   "execution_count": null,
   "metadata": {},
   "outputs": [],
   "source": []
  },
  {
   "cell_type": "code",
   "execution_count": 61,
   "metadata": {},
   "outputs": [
    {
     "name": "stdout",
     "output_type": "stream",
     "text": [
      "The Mean Squared Error of our forecasts is 0.0002\n"
     ]
    }
   ],
   "source": [
    "# Compute the mean square error\n",
    "mse = np.mean( ( y_forecasted - y_truth ) ** 2)\n",
    "print('The Mean Squared Error of our forecasts is {}'.format(round(mse, 5)))"
   ]
  },
  {
   "cell_type": "code",
   "execution_count": 62,
   "metadata": {},
   "outputs": [],
   "source": [
    "pred_dynamic = results.get_prediction(start=pd.to_datetime('2000-01-01'), dynamic=True, full_results=True)\n",
    "pred_dynamic_ci = pred_dynamic.conf_int()"
   ]
  },
  {
   "cell_type": "code",
   "execution_count": 63,
   "metadata": {},
   "outputs": [
    {
     "data": {
      "image/png": "[encoded data removed]",
      "text/plain": [
       "<Figure size 720x288 with 1 Axes>"
      ]
     },
     "metadata": {},
     "output_type": "display_data"
    }
   ],
   "source": [
    "ax = cote_divoire['2000':].plot(label='observed', figsize=(10, 4))\n",
    "pred_dynamic.predicted_mean.plot(label='growth rate predicted with margin error', ax=ax)\n",
    "\n",
    "ax.fill_between(pred_dynamic_ci.index,\n",
    "                pred_dynamic_ci.iloc[:, 0],\n",
    "                pred_dynamic_ci.iloc[:, 1], color='k', alpha=.25)\n",
    "\n",
    "ax.fill_betweenx(ax.get_ylim(), pd.to_datetime('2000-01-01'), cote_divoire.index[-1],\n",
    "                 alpha=.1, zorder=-1)\n",
    "\n",
    "ax.set_xlabel('Date')\n",
    "ax.set_ylabel('Pop growth')\n",
    "plt.savefig(\"growth_forecat.png\")\n",
    "plt.legend(loc=3)\n",
    "plt.show()"
   ]
  },
  {
   "cell_type": "code",
   "execution_count": 64,
   "metadata": {},
   "outputs": [
    {
     "name": "stdout",
     "output_type": "stream",
     "text": [
      "The Mean Squared Error of our forecasts is 0.00335\n"
     ]
    }
   ],
   "source": [
    "# Extract the predicted and true values of our time series\n",
    "y_forecasted = pred_dynamic.predicted_mean\n",
    "y_truth = cote_divoire['2000-01-01':]\n",
    "\n",
    "y_forecasted = np.array(y_forecasted.tolist() )\n",
    "y_truth = np.array(y_truth[\"pop_growth_rate\"].tolist() )\n",
    "\n",
    "# Compute the mean square error\n",
    "mse = ((y_forecasted - y_truth) ** 2).mean()\n",
    "print('The Mean Squared Error of our forecasts is {}'.format(round(mse, 5)))"
   ]
  },
  {
   "cell_type": "code",
   "execution_count": 65,
   "metadata": {},
   "outputs": [
    {
     "name": "stderr",
     "output_type": "stream",
     "text": [
      "/home/ebiele/anaconda3/lib/python3.7/site-packages/statsmodels/tsa/base/tsa_model.py:320: FutureWarning: Creating a DatetimeIndex by passing range endpoints is deprecated.  Use `pandas.date_range` instead.\n",
      "  freq=base_index.freq)\n"
     ]
    }
   ],
   "source": [
    "# Get forecast 10 steps ahead in future\n",
    "pred_uc = results.get_forecast(steps=10)\n",
    "\n",
    "# Get confidence intervals of forecasts\n",
    "pred_ci = pred_uc.conf_int()"
   ]
  },
  {
   "cell_type": "code",
   "execution_count": 66,
   "metadata": {},
   "outputs": [
    {
     "data": {
      "image/png": "[encoded data removed]",
      "text/plain": [
       "<Figure size 720x288 with 1 Axes>"
      ]
     },
     "metadata": {},
     "output_type": "display_data"
    }
   ],
   "source": [
    "ax = cote_divoire.plot(label='observed', figsize=(10, 4))\n",
    "pred_uc.predicted_mean.plot(ax=ax, label='Forecast')\n",
    "ax.fill_between(pred_ci.index,\n",
    "                pred_ci.iloc[:, 0],\n",
    "                pred_ci.iloc[:, 1], color='k', alpha=.25)\n",
    "ax.set_xlabel('Date')\n",
    "ax.set_ylabel('Pop growth')\n",
    "\n",
    "plt.legend()\n",
    "plt.savefig(\"growth_and_forecastGrowth.png\")\n",
    "plt.show()"
   ]
  },
  {
   "cell_type": "code",
   "execution_count": null,
   "metadata": {},
   "outputs": [],
   "source": []
  },
  {
   "cell_type": "code",
   "execution_count": null,
   "metadata": {},
   "outputs": [],
   "source": []
  }
 ],
 "metadata": {
  "kernelspec": {
   "display_name": "Python 3",
   "language": "python",
   "name": "python3"
  },
  "language_info": {
   "codemirror_mode": {
    "name": "ipython",
    "version": 3
   },
   "file_extension": ".py",
   "mimetype": "text/x-python",
   "name": "python",
   "nbconvert_exporter": "python",
   "pygments_lexer": "ipython3",
   "version": "3.7.1"
  }
 },
 "nbformat": 4,
 "nbformat_minor": 2
}
