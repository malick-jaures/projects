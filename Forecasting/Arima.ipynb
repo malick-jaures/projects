{
 "cells": [
  {
   "cell_type": "code",
   "execution_count": 1,
   "metadata": {
    "collapsed": true
   },
   "outputs": [],
   "source": [
    "import warnings\n",
    "import itertools\n",
    "import pandas as pd\n",
    "import numpy as np\n",
    "import statsmodels.api as sm\n",
    "import matplotlib.pyplot as plt\n",
    "import datetime\n",
    "\n",
    "plt.style.use('fivethirtyeight')"
   ]
  },
  {
   "cell_type": "code",
   "execution_count": 2,
   "metadata": {},
   "outputs": [
    {
     "data": {
      "text/html": [
       "<div>\n",
       "<style scoped>\n",
       "    .dataframe tbody tr th:only-of-type {\n",
       "        vertical-align: middle;\n",
       "    }\n",
       "\n",
       "    .dataframe tbody tr th {\n",
       "        vertical-align: top;\n",
       "    }\n",
       "\n",
       "    .dataframe thead th {\n",
       "        text-align: right;\n",
       "    }\n",
       "</style>\n",
       "<table border=\"1\" class=\"dataframe\">\n",
       "  <thead>\n",
       "    <tr style=\"text-align: right;\">\n",
       "      <th></th>\n",
       "      <th>pop_growth_rate</th>\n",
       "    </tr>\n",
       "    <tr>\n",
       "      <th>year</th>\n",
       "      <th></th>\n",
       "    </tr>\n",
       "  </thead>\n",
       "  <tbody>\n",
       "    <tr>\n",
       "      <th>1960-01-01</th>\n",
       "      <td>3.518860</td>\n",
       "    </tr>\n",
       "    <tr>\n",
       "      <th>1961-01-01</th>\n",
       "      <td>3.728914</td>\n",
       "    </tr>\n",
       "    <tr>\n",
       "      <th>1962-01-01</th>\n",
       "      <td>3.898586</td>\n",
       "    </tr>\n",
       "    <tr>\n",
       "      <th>1963-01-01</th>\n",
       "      <td>3.977808</td>\n",
       "    </tr>\n",
       "    <tr>\n",
       "      <th>1964-01-01</th>\n",
       "      <td>3.949645</td>\n",
       "    </tr>\n",
       "  </tbody>\n",
       "</table>\n",
       "</div>"
      ],
      "text/plain": [
       "            pop_growth_rate\n",
       "year                       \n",
       "1960-01-01         3.518860\n",
       "1961-01-01         3.728914\n",
       "1962-01-01         3.898586\n",
       "1963-01-01         3.977808\n",
       "1964-01-01         3.949645"
      ]
     },
     "execution_count": 2,
     "metadata": {},
     "output_type": "execute_result"
    }
   ],
   "source": [
    "cote_divoire = pd.read_csv(\"cote_divoire_growth.csv\", index_col=\"year\", parse_dates=True)\n",
    "cote_divoire.head()\n",
    "\n",
    "cote_divoire.rename({\"Cote d'Ivoire\":\"pop_growth_rate\"},axis=1, inplace=True)\n",
    "\n",
    "cote_divoire.loc[\"2018-01-01\",\"pop_growth_rate\"] = cote_divoire.loc[\"2017-01-01\", \"pop_growth_rate\"]\n",
    "\n",
    "cote_divoire.head()"
   ]
  },
  {
   "cell_type": "code",
   "execution_count": 3,
   "metadata": {},
   "outputs": [
    {
     "name": "stdout",
     "output_type": "stream",
     "text": [
      "Examples of parameter combinations for Seasonal ARIMA...\n",
      "SARIMAX: (0, 0, 1) x (0, 0, 1, 12)\n",
      "SARIMAX: (0, 0, 1) x (0, 0, 2, 12)\n",
      "SARIMAX: (0, 0, 2) x (0, 0, 3, 12)\n",
      "SARIMAX: (0, 0, 2) x (0, 0, 4, 12)\n"
     ]
    }
   ],
   "source": [
    "# Define the p, d and q parameters to take any value between 0 and 2\n",
    "p = d = q = range(0, 6)\n",
    "\n",
    "# Generate all different combinations of p, q and q triplets\n",
    "pdq = list(itertools.product(p, d, q))\n",
    "\n",
    "# Generate all different combinations of seasonal p, q and q triplets\n",
    "seasonal_pdq = [(x[0], x[1], x[2], 12) for x in list(itertools.product(p, d, q))]\n",
    "\n",
    "print('Examples of parameter combinations for Seasonal ARIMA...')\n",
    "print('SARIMAX: {} x {}'.format(pdq[1], seasonal_pdq[1]))\n",
    "print('SARIMAX: {} x {}'.format(pdq[1], seasonal_pdq[2]))\n",
    "print('SARIMAX: {} x {}'.format(pdq[2], seasonal_pdq[3]))\n",
    "print('SARIMAX: {} x {}'.format(pdq[2], seasonal_pdq[4]))"
   ]
  },
  {
   "cell_type": "code",
   "execution_count": null,
   "metadata": {},
   "outputs": [],
   "source": [
    "warnings.filterwarnings(\"ignore\") # specify to ignore warning messages\n",
    "\n",
    "L =[]\n",
    "for param in pdq:\n",
    "    for param_seasonal in seasonal_pdq:\n",
    "        #print(param, param_seasonal)\n",
    "        try:\n",
    "            mod = sm.tsa.statespace.SARIMAX(cote_divoire,\n",
    "                                            order=param,\n",
    "                                            seasonal_order=param_seasonal,\n",
    "                                            enforce_stationarity=False,\n",
    "                                            enforce_invertibility=False)\n",
    "\n",
    "            results = mod.fit()\n",
    "            #print(results.summary().tables[1])\n",
    "            \n",
    "            y_truth = cote_divoire['2000-01-01':]\n",
    "            y_truth = np.array(y_truth[\"pop_growth_rate\"].tolist() )\n",
    "            #print(y_truth)\n",
    "            # Dynamic False\n",
    "            pred = results.get_prediction(start=pd.to_datetime(\"2000-01-01\"), dynamic=False)\n",
    "            #pred_ci = pred.conf_int()\n",
    "            \n",
    "            y_forecasted = pred.predicted_mean\n",
    "            y_forecasted = np.array(y_forecasted.tolist() )\n",
    "            \n",
    "            # Compute the mean square error\n",
    "            mse1 = np.mean( ( y_forecasted - y_truth ) ** 2)\n",
    "            \n",
    "            # Dynamic True\n",
    "            pred_dynamic = results.get_prediction(start=pd.to_datetime('2000-01-01'), dynamic=True, full_results=True)   \n",
    "            #pred_dynamic_ci = pred_dynamic.conf_int()\n",
    "            \n",
    "            y_forecasted = pred_dynamic.predicted_mean\n",
    "            y_forecasted = np.array(y_forecasted.tolist() )\n",
    "\n",
    "            # Compute the mean square error\n",
    "            mse = np.mean( ( y_forecasted - y_truth ) ** 2)\n",
    "            \n",
    "            #print(mse,mse1)\n",
    "            if round(mse, 5) <= 0.005 and round(mse1, 5) <= 0.002:  \n",
    "                L.append((results.aic,'ARIMA{}x{}12'.format(param, param_seasonal),mse,mse1 ))\n",
    "                \n",
    "                print('ARIMA{}x{}12 - AIC:{}'.format(param, param_seasonal, results.aic),mse,mse1)\n",
    "        except:\n",
    "            continue\n",
    "                    \n",
    "                \n",
    "file_params = open(\"param_estimated.dat\", 'w')           \n",
    "file_params.write(\"\\n\".join([str(i)+\";\"+str(j)+\";\"+str(mse)+\";\"+str(mse1) for i,j,mse,mse1 in L]))\n",
    "file_params.close()             \n",
    "\n"
   ]
  },
  {
   "cell_type": "code",
   "execution_count": null,
   "metadata": {},
   "outputs": [],
   "source": []
  }
 ],
 "metadata": {
  "kernelspec": {
   "display_name": "Python 3",
   "language": "python",
   "name": "python3"
  },
  "language_info": {
   "codemirror_mode": {
    "name": "ipython",
    "version": 3
   },
   "file_extension": ".py",
   "mimetype": "text/x-python",
   "name": "python",
   "nbconvert_exporter": "python",
   "pygments_lexer": "ipython3",
   "version": "3.7.1"
  }
 },
 "nbformat": 4,
 "nbformat_minor": 2
}
